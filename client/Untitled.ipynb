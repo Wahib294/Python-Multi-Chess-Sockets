{
 "cells": [
  {
   "cell_type": "code",
   "execution_count": 14,
   "id": "de7dd567",
   "metadata": {},
   "outputs": [],
   "source": [
    "message =\"a2a4\"\n",
    "event = (ord(message[0])-97,int(message[1])-1)"
   ]
  },
  {
   "cell_type": "code",
   "execution_count": 12,
   "id": "7d1ac8a7",
   "metadata": {},
   "outputs": [
    {
     "data": {
      "text/plain": [
       "97"
      ]
     },
     "execution_count": 12,
     "metadata": {},
     "output_type": "execute_result"
    }
   ],
   "source": [
    "a = message[0]\n",
    "ord(a)"
   ]
  },
  {
   "cell_type": "code",
   "execution_count": 13,
   "id": "f85787c9",
   "metadata": {},
   "outputs": [
    {
     "data": {
      "text/plain": [
       "'a'"
      ]
     },
     "execution_count": 13,
     "metadata": {},
     "output_type": "execute_result"
    }
   ],
   "source": [
    "a"
   ]
  },
  {
   "cell_type": "code",
   "execution_count": 15,
   "id": "c7aa5aa9",
   "metadata": {},
   "outputs": [
    {
     "data": {
      "text/plain": [
       "(0, 1)"
      ]
     },
     "execution_count": 15,
     "metadata": {},
     "output_type": "execute_result"
    }
   ],
   "source": [
    "event"
   ]
  },
  {
   "cell_type": "code",
   "execution_count": 16,
   "id": "64f9552e",
   "metadata": {},
   "outputs": [
    {
     "data": {
      "text/plain": [
       "tuple"
      ]
     },
     "execution_count": 16,
     "metadata": {},
     "output_type": "execute_result"
    }
   ],
   "source": [
    "type(event)"
   ]
  },
  {
   "cell_type": "code",
   "execution_count": null,
   "id": "c7a1b505",
   "metadata": {},
   "outputs": [],
   "source": [
    "message = clientsocket.recv(4).decode()\n",
    "                    self.pending_move[0] = message[0]+message[1]\n",
    "                    self.pending_move[1] = message[2]+message[3]\n",
    "        \n",
    "                    move = self.parse_uci(''.join(self.pending_move))\n",
    "                    self.push(move)"
   ]
  }
 ],
 "metadata": {
  "kernelspec": {
   "display_name": "Python 3 (ipykernel)",
   "language": "python",
   "name": "python3"
  },
  "language_info": {
   "codemirror_mode": {
    "name": "ipython",
    "version": 3
   },
   "file_extension": ".py",
   "mimetype": "text/x-python",
   "name": "python",
   "nbconvert_exporter": "python",
   "pygments_lexer": "ipython3",
   "version": "3.9.7"
  }
 },
 "nbformat": 4,
 "nbformat_minor": 5
}
